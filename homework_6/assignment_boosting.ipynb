{
 "cells": [
  {
   "cell_type": "markdown",
   "id": "119c9460",
   "metadata": {},
   "source": [
    "## Home assignment 06: Gradient boosting with MSE\n",
    "\n",
    "Please, fill the lines in the code below.\n",
    "This is a simplified version of `BoostingRegressor` from `sklearn`. Please, notice, that `sklearn` API is **not preserved**.\n",
    "\n",
    "Your algorithm should be able to train different numbers of instances of the same model class. Every target is computed according to the loss function gradient. In this particular case, loss is computed for MSE.\n",
    "\n",
    "The model should be passed as model class with no explicit parameters and no parentheses.\n",
    "\n",
    "Example:\n",
    "```\n",
    "import numpy as np\n",
    "from sklearn.tree import DecisionTreeRegressor\n",
    "\n",
    "boosting_regressor = SimplifiedBoostingRegressor()    \n",
    "boosting_regressor.fit(DecisionTreeRegressor, X, y, 100, 0.5, 10)\n",
    "\n",
    "\n",
    "```"
   ]
  },
  {
   "cell_type": "markdown",
   "metadata": {},
   "source": [
    "## Домашнее задание 06: Повышение градиента с помощью MSE\n",
    "\n",
    "Пожалуйста, заполните строки кода ниже.\n",
    "Это упрощенная версия BoostingRegressor из sklearn. Обратите внимание, что API `sklearn` **не сохранился**.\n",
    "\n",
    "Ваш алгоритм должен иметь возможность обучать разное количество экземпляров одного и того же класса модели.\n",
    "Каждая цель вычисляется в соответствии с градиентом функции потерь. В данном конкретном случае потери рассчитываются для MSE.\n",
    "\n",
    "Модель должна передаваться как класс модели без явных параметров и круглых скобок.\n",
    "\n",
    "Пример:\n",
    "```\n",
    "импортировать numpy как np\n",
    "из sklearn.tree импортировать DecisionTreeRegressor\n",
    "\n",
    "boosting_regressor = УпрощенныйBoostingRegressor()\n",
    "boosting_regressor.fit(DecisionTreeRegressor, X, y, 100, 0,5, 10)\n",
    "\n",
    "\n",
    "```"
   ]
  },
  {
   "cell_type": "code",
   "execution_count": 1,
   "id": "31ecde34",
   "metadata": {},
   "outputs": [
    {
     "name": "stderr",
     "output_type": "stream",
     "text": [
      "d:\\Yandex context 2023\\.venv\\lib\\site-packages\\tqdm\\auto.py:21: TqdmWarning: IProgress not found. Please update jupyter and ipywidgets. See https://ipywidgets.readthedocs.io/en/stable/user_install.html\n",
      "  from .autonotebook import tqdm as notebook_tqdm\n"
     ]
    }
   ],
   "source": [
    "import numpy as np\n",
    "from tqdm.auto import tqdm\n",
    "from matplotlib import pyplot as plt\n",
    "\n",
    "from sklearn.tree import DecisionTreeRegressor\n",
    "from sklearn.linear_model import LinearRegression\n",
    "from sklearn.datasets import make_regression"
   ]
  },
  {
   "cell_type": "code",
   "execution_count": 9,
   "metadata": {},
   "outputs": [
    {
     "name": "stdout",
     "output_type": "stream",
     "text": [
      "(200,) (200,)\n"
     ]
    },
    {
     "data": {
      "text/plain": [
       "(array([ 0.17921644, -1.39518371]), array([ 0.11980028, -1.22428205]))"
      ]
     },
     "execution_count": 9,
     "metadata": {},
     "output_type": "execute_result"
    }
   ],
   "source": [
    "X = np.random.randn(200, 10)\n",
    "y = np.random.normal(0, 1, X.shape[0])\n",
    "pred = y+np.random.normal(0, 0.1, X.shape[0])\n",
    "print(y.shape, pred.shape)\n",
    "y[:2], pred[:2]"
   ]
  },
  {
   "cell_type": "code",
   "execution_count": 10,
   "metadata": {},
   "outputs": [
    {
     "data": {
      "text/plain": [
       "array([3.53028080e-05, 2.92073799e-04, 3.22478347e-05, 2.38577332e-06,\n",
       "       4.21629642e-05, 1.60449079e-05, 4.44870815e-06, 3.76163959e-07,\n",
       "       6.17814841e-05, 1.30269747e-06, 2.69666332e-06, 4.30315473e-06,\n",
       "       1.02828923e-05, 2.08304165e-05, 1.63688713e-04, 2.50492627e-06,\n",
       "       1.55394115e-04, 9.24198322e-06, 1.64377198e-06, 7.04328231e-05,\n",
       "       5.34052777e-05, 6.63895736e-05, 5.47929261e-05, 1.19676861e-04,\n",
       "       7.10910447e-06, 4.90255604e-06, 1.82986851e-04, 4.70992054e-06,\n",
       "       7.90617260e-05, 4.11717779e-05, 3.93830266e-05, 4.63619186e-06,\n",
       "       3.02747285e-04, 1.01026706e-04, 4.69223813e-08, 1.60614582e-04,\n",
       "       1.46896752e-05, 1.36539794e-05, 3.13959653e-06, 3.06974047e-06,\n",
       "       1.06767646e-06, 1.04045218e-04, 1.64109132e-04, 9.29939334e-06,\n",
       "       1.98082257e-06, 9.76408885e-06, 1.53890605e-05, 6.97971872e-05,\n",
       "       5.17737561e-04, 1.09721680e-05, 1.38437121e-04, 2.39374642e-04,\n",
       "       3.07745029e-04, 1.81625357e-04, 1.00129442e-05, 1.63618247e-08,\n",
       "       5.35928929e-05, 6.57190754e-06, 7.26531064e-05, 9.37100654e-08,\n",
       "       8.74714740e-06, 2.06894682e-06, 1.41224325e-04, 5.90970269e-05,\n",
       "       6.78080204e-06, 7.85411095e-05, 1.64923915e-04, 6.22360751e-05,\n",
       "       4.30525648e-05, 3.60786913e-04, 1.92434192e-07, 1.48379274e-06,\n",
       "       6.28100676e-05, 3.19563185e-04, 4.63256186e-04, 1.99054706e-04,\n",
       "       7.74158612e-05, 1.23069219e-04, 6.77854361e-05, 1.92801736e-05,\n",
       "       8.72834520e-05, 4.97611334e-06, 1.55814391e-07, 7.31587285e-05,\n",
       "       1.50122924e-05, 1.18287614e-04, 1.16652117e-05, 5.89485199e-05,\n",
       "       6.74632488e-06, 2.57394958e-05, 8.92079641e-07, 2.27647358e-05,\n",
       "       2.21244390e-04, 2.60207973e-04, 1.22641520e-06, 9.46783285e-05,\n",
       "       5.33622808e-04, 1.59754180e-04, 1.59394460e-05, 1.19113427e-04,\n",
       "       2.18325552e-05, 4.32352162e-04, 1.17454450e-05, 4.19989989e-05,\n",
       "       4.52708045e-07, 7.42292973e-05, 8.91388652e-06, 9.69529449e-07,\n",
       "       1.83198301e-04, 1.44195288e-04, 2.07650434e-04, 8.28237752e-07,\n",
       "       1.14794523e-06, 2.67754822e-06, 2.40181599e-05, 7.25744426e-05,\n",
       "       4.87092072e-05, 1.43476176e-05, 9.18670153e-05, 2.26297208e-04,\n",
       "       7.94827927e-05, 2.98536292e-05, 7.17902336e-06, 3.07808942e-04,\n",
       "       1.04122738e-04, 2.29447815e-04, 9.45065175e-05, 5.01513665e-05,\n",
       "       3.68515964e-05, 3.12993084e-07, 2.25690070e-04, 1.81404418e-05,\n",
       "       7.65051784e-05, 9.30916511e-05, 2.54971867e-06, 1.76345481e-06,\n",
       "       1.42061271e-04, 3.36669633e-06, 4.37716994e-04, 6.89305179e-05,\n",
       "       3.51954850e-04, 1.59877339e-05, 2.19408394e-06, 2.36246339e-04,\n",
       "       1.32062416e-04, 1.24471933e-04, 8.44047342e-05, 3.65842265e-06,\n",
       "       4.56750967e-05, 5.36270950e-07, 1.87755703e-04, 2.93040904e-05,\n",
       "       1.29469716e-04, 3.12791620e-05, 9.30487624e-05, 4.12836023e-04,\n",
       "       1.67283650e-04, 7.89066846e-05, 7.50498280e-04, 1.08266270e-04,\n",
       "       3.69508055e-04, 3.56408698e-04, 6.48345205e-05, 9.63887542e-06,\n",
       "       1.42372924e-05, 1.12517109e-04, 8.58204066e-05, 2.16835905e-04,\n",
       "       4.71572940e-05, 4.19688497e-06, 1.03850018e-04, 3.77762907e-05,\n",
       "       2.98764616e-04, 2.20797084e-05, 5.14023219e-05, 1.23074207e-04,\n",
       "       3.11209998e-05, 5.18527844e-05, 1.43382090e-05, 2.05638460e-04,\n",
       "       1.09908672e-05, 1.75002480e-04, 7.51168586e-07, 3.78436461e-06,\n",
       "       3.27401143e-05, 5.25447520e-06, 2.38491199e-05, 7.27003902e-05,\n",
       "       5.88604011e-05, 2.24859466e-04, 2.08582359e-04, 1.34473822e-08,\n",
       "       1.20435134e-04, 1.11291658e-05, 1.19376107e-04, 1.01348163e-05,\n",
       "       7.89027949e-05, 6.33305516e-05, 6.58279714e-05, 1.00047330e-04])"
      ]
     },
     "execution_count": 10,
     "metadata": {},
     "output_type": "execute_result"
    }
   ],
   "source": [
    "2/y.shape[0] * (pred - y)**2 "
   ]
  },
  {
   "cell_type": "code",
   "execution_count": 31,
   "id": "06110580",
   "metadata": {},
   "outputs": [],
   "source": [
    "class SimplifiedBoostingRegressor:\n",
    "    def __init__(self):\n",
    "        pass\n",
    "        \n",
    "    @staticmethod\n",
    "    def loss(targets, predictions):\n",
    "        loss = np.mean((targets - predictions)**2)\n",
    "        return loss\n",
    "    \n",
    "    @staticmethod\n",
    "    def loss_gradients(targets, predictions):\n",
    "        # 2/targets.shape[0] * (predictions - targets)**2\n",
    "        gradients = predictions - targets # YOUR CODE HERE\n",
    "        assert gradients.shape == targets.shape\n",
    "        return gradients\n",
    "        \n",
    "        \n",
    "    def fit(self, model_constructor, data, targets, num_steps=10, lr=0.1, max_depth=5, verbose=False):\n",
    "        '''\n",
    "        Fit sequence of models on the provided data.\n",
    "        Model constructor with no parameters (and with no ()) is passed to this function.\n",
    "        If \n",
    "        \n",
    "        example:\n",
    "        \n",
    "        boosting_regressor = SimplifiedBoostingRegressor()    \n",
    "        boosting_regressor.fit(DecisionTreeRegressor, X, y, 100, 0.5, 10)\n",
    "        '''\n",
    "        new_targets = targets\n",
    "        self.models_list = []\n",
    "        self.lr = lr\n",
    "        self.loss_log = []\n",
    "        for step in range(num_steps):\n",
    "            try:\n",
    "                model = model_constructor(max_depth=max_depth)\n",
    "            except TypeError:\n",
    "                print('max_depth keyword is not found. Ignoring')\n",
    "                model = model_constructor()\n",
    "            self.models_list.append(model.fit(data, new_targets))\n",
    "            predictions = self.predict(data)\n",
    "            self.loss_log.append(self.loss(targets, predictions))\n",
    "            gradients = self.loss_gradients(targets, predictions)\n",
    "            new_targets = -1 * gradients * self.lr # YOUR CODE HERE\n",
    "        if verbose:\n",
    "            print('Finished! Loss=', self.loss_log[-1])\n",
    "        return self\n",
    "            \n",
    "    def predict(self, data):\n",
    "        predictions = np.zeros(len(data))\n",
    "        for model in self.models_list:\n",
    "            predictions += model.predict(data) * self.lr # YOUR CODE HERE\n",
    "        return predictions"
   ]
  },
  {
   "cell_type": "markdown",
   "id": "5cfa174f",
   "metadata": {},
   "source": [
    "### Local tests:"
   ]
  },
  {
   "cell_type": "markdown",
   "id": "b54221c2",
   "metadata": {},
   "source": [
    "#### Overfitting tests:"
   ]
  },
  {
   "cell_type": "code",
   "execution_count": 32,
   "id": "84c94a8b",
   "metadata": {},
   "outputs": [
    {
     "name": "stderr",
     "output_type": "stream",
     "text": [
      "100%|██████████| 10/10 [00:06<00:00,  1.50it/s]"
     ]
    },
    {
     "name": "stdout",
     "output_type": "stream",
     "text": [
      "Overfitting tests done!\n"
     ]
    },
    {
     "name": "stderr",
     "output_type": "stream",
     "text": [
      "\n"
     ]
    }
   ],
   "source": [
    "for _ in tqdm(range(10)):\n",
    "    X = np.random.randn(200, 10)\n",
    "    y = np.random.normal(0, 1, X.shape[0])\n",
    "    boosting_regressor = SimplifiedBoostingRegressor()    \n",
    "    boosting_regressor.fit(DecisionTreeRegressor, X, y, 100, 0.5, 10)\n",
    "    # print(boosting_regressor.loss_log)\n",
    "    assert boosting_regressor.loss_log[-1] < 1e-6, 'Boosting should overfit with many deep trees on simple data!'\n",
    "    assert boosting_regressor.loss_log[0] > 1e-2, 'First tree loos should be not to low!'    \n",
    "print('Overfitting tests done!')"
   ]
  },
  {
   "cell_type": "markdown",
   "id": "17e5cfd7",
   "metadata": {},
   "source": [
    "#### Zero lr tests:"
   ]
  },
  {
   "cell_type": "code",
   "execution_count": 33,
   "id": "a9e60fe4",
   "metadata": {},
   "outputs": [
    {
     "name": "stderr",
     "output_type": "stream",
     "text": [
      "100%|██████████| 10/10 [00:00<00:00, 89.41it/s]"
     ]
    },
    {
     "name": "stdout",
     "output_type": "stream",
     "text": [
      "Zero lr tests done!\n"
     ]
    },
    {
     "name": "stderr",
     "output_type": "stream",
     "text": [
      "\n"
     ]
    }
   ],
   "source": [
    "for _ in tqdm(range(10)):\n",
    "    X = np.random.randn(200, 10)\n",
    "    y = np.random.normal(0, 1, X.shape[0])\n",
    "    boosting_regressor = SimplifiedBoostingRegressor()    \n",
    "    boosting_regressor.fit(DecisionTreeRegressor, X, y, 10, 0., 10)\n",
    "    predictions = boosting_regressor.predict(X)\n",
    "    assert all(predictions == 0), 'With zero weight model should predict constant values!'\n",
    "    assert boosting_regressor.loss_log[-1] == boosting_regressor.loss_log[0], 'With zero weight model should not learn anything new!'\n",
    "print('Zero lr tests done!')"
   ]
  },
  {
   "cell_type": "markdown",
   "id": "fc2faafe",
   "metadata": {},
   "source": [
    "#### Fitting test"
   ]
  },
  {
   "cell_type": "code",
   "execution_count": 34,
   "id": "2710d9cf",
   "metadata": {},
   "outputs": [
    {
     "name": "stderr",
     "output_type": "stream",
     "text": [
      "100%|██████████| 10/10 [00:22<00:00,  2.28s/it]\n"
     ]
    }
   ],
   "source": [
    "for _ in tqdm(range(10)):\n",
    "    data, targets = make_regression(1000, 10)\n",
    "    indices = np.arange(len(data))\n",
    "    np.random.shuffle(indices)\n",
    "    data_train, targets_train = data[indices[:700]], targets[indices[:700]]\n",
    "    data_val, targets_val = data[indices[700:]], targets[indices[700:]]\n",
    "\n",
    "\n",
    "    train_loss_log = []\n",
    "    val_loss_log = []\n",
    "    for depth in range(1, 25):\n",
    "        boosting_regressor = SimplifiedBoostingRegressor()    \n",
    "\n",
    "        boosting_regressor.fit(DecisionTreeRegressor, data_train, targets_train, depth, 0.2, 5)\n",
    "        predictions_train = boosting_regressor.predict(data_train)\n",
    "        predictions_val = boosting_regressor.predict(data_val)\n",
    "        train_loss_log.append(np.mean((predictions_train-targets_train)**2))\n",
    "        val_loss_log.append(np.mean((predictions_val-targets_val)**2))\n",
    "        \n",
    "    assert train_loss_log[-2] > train_loss_log[-1] and abs(train_loss_log[-2]/train_loss_log[-1]) < 2, '{}, {}'.format(train_loss_log[-2], train_loss_log[-1])"
   ]
  },
  {
   "cell_type": "markdown",
   "id": "2eedf99c",
   "metadata": {},
   "source": [
    "Here is your convergence plot from the last run:"
   ]
  },
  {
   "cell_type": "code",
   "execution_count": 35,
   "id": "1bae7383",
   "metadata": {},
   "outputs": [
    {
     "data": {
      "text/plain": [
       "<matplotlib.legend.Legend at 0x1a9404332b0>"
      ]
     },
     "execution_count": 35,
     "metadata": {},
     "output_type": "execute_result"
    },
    {
     "data": {
      "image/png": "[encoded data removed]",
      "text/plain": [
       "<Figure size 640x480 with 1 Axes>"
      ]
     },
     "metadata": {},
     "output_type": "display_data"
    }
   ],
   "source": [
    "plt.plot(range(1, len(train_loss_log)+1), train_loss_log, label='train')\n",
    "plt.plot(range(1, len(val_loss_log)+1), val_loss_log, label='val')\n",
    "plt.xlabel('Ensemble size')\n",
    "plt.ylabel('Error')\n",
    "plt.legend()"
   ]
  },
  {
   "cell_type": "markdown",
   "id": "9535cb6d",
   "metadata": {},
   "source": [
    "Great job! Please, submit your solution to the grading system!"
   ]
  }
 ],
 "metadata": {
  "kernelspec": {
   "display_name": ".venv",
   "language": "python",
   "name": "python3"
  },
  "language_info": {
   "codemirror_mode": {
    "name": "ipython",
    "version": 3
   },
   "file_extension": ".py",
   "mimetype": "text/x-python",
   "name": "python",
   "nbconvert_exporter": "python",
   "pygments_lexer": "ipython3",
   "version": "3.10.5"
  }
 },
 "nbformat": 4,
 "nbformat_minor": 5
}
